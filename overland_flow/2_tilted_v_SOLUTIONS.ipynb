{
 "cells": [
  {
   "cell_type": "markdown",
   "metadata": {},
   "source": [
    "# ParFlow Short Course: Overland Flow [SOLUTIONS]\n",
    "## Exercise: Rainfall Runoff Hydrograph on a Tilted-V\n",
    "\n",
    "### Domain Description\n",
    " - A tilted V domain that consists of two hillslopes sloping toward a central channel. \n",
    " - The hillslopes and channel are created using three separate box geometries. \n",
    " - The domain is consists of a single vertical layer 0.05m thick, and 5 grid cells in the x and y direction each with a cell size of 10.0\n",
    " - The domain is initialized to be totally dry (with a water table set at 3m below the surface, which is below the bottom of the domain)\n",
    " - Permeability, porosity and  hydraulic conductivity are all set very low to create an impermeable surface as we are really just focusing on runoff in this test. \n",
    " - Simulations run for 2 hours with a time step of 0.05 hours. \n",
    " - Rain is at a constant rate of 0.01m/hour for 0.1 hours (2 timesteps) followed by a rain free period for the rest of the simulation \n",
    " - The examples show how to run with three different overland flow formulations: OverlandFlow, OverlandKinematic and Diffusive"
   ]
  },
  {
   "cell_type": "markdown",
   "metadata": {},
   "source": [
    "### Activities\n",
    "You will explore overland flow on a Tilted-V domain. Please see [tilted_v_domain_setup.ipynb](https://github.com/hydroframe/parflow_short_course_updated/blob/main/overland_flow/tilted_v_domain_setup.ipynb) if you would like to see the full set of keys used to define the domain for this ParFlow run. In this section we are focusing on the ParFlow keys related to the [Topographical Slopes](https://parflow.readthedocs.io/en/latest/keys.html#topographical-slopes), [Manning's Roughness Values](https://parflow.readthedocs.io/en/latest/keys.html#mannings-roughness-values), and [Time Cycles](https://parflow.readthedocs.io/en/latest/keys.html#time-cycles). We will explain these keys in more detail in the cells below. Also feel free to explore the [ParFlow manual](https://parflow.readthedocs.io/en/latest/keys.html#) for detail on all ParFlow keys.\n",
    "\n",
    "Please complete the following:\n",
    "1. Change the slope of the channel and the manning's roughness and see how it affects the timing of runoff\n",
    "1. Add a second rainstorm by decreasing the recession length (The key for this is: overland.Cycle.rainrec.rec.Length = 300) Note that 300 is the number of timesteps so this is actually 15 hours. \n",
    "1. Turn the V so the streamflow flows out the north end of the domain instead of the south (This will also require them to change the outlet point that they plot for streamflow)\n",
    "1. Extra challenge: Turn the V 90 degrees. "
   ]
  },
  {
   "cell_type": "markdown",
   "metadata": {},
   "source": [
    " "
   ]
  },
  {
   "cell_type": "code",
   "execution_count": null,
   "metadata": {},
   "outputs": [],
   "source": [
    "# Import the ParFlow package\n",
    "from parflow import Run\n",
    "import os\n",
    "from parflow.tools.fs import mkdir, cp, chdir, get_absolute_path, rm, exists"
   ]
  },
  {
   "cell_type": "markdown",
   "metadata": {},
   "source": [
    "Below are three formulations for how to set up a Tilted V domain. Please select and run one and complete the exercises with it."
   ]
  },
  {
   "cell_type": "code",
   "execution_count": null,
   "metadata": {},
   "outputs": [],
   "source": [
    "# Import run information from pfidb\n",
    "overland = Run.from_definition(\"overland_tiltedV.pfidb\")\n",
    "\n",
    "#-----------------------------------------------------------------------------\n",
    "# Original formulation with a zero value channel\n",
    "#-----------------------------------------------------------------------------\n",
    "overland.TopoSlopesX.Type = 'Constant'\n",
    "overland.TopoSlopesX.GeomNames = 'left right channel'\n",
    "overland.TopoSlopesX.Geom.left.Value = -0.01\n",
    "overland.TopoSlopesX.Geom.right.Value = 0.01\n",
    "overland.TopoSlopesX.Geom.channel.Value = 0.00\n",
    "\n",
    "overland.TopoSlopesY.Type = 'Constant'\n",
    "overland.TopoSlopesY.GeomNames = 'domain'\n",
    "overland.TopoSlopesY.Geom.domain.Value = 0.01\n",
    "\n",
    "# original approach from K&M AWR 2006\n",
    "overland.Patch.z_upper.BCPressure.Type = 'OverlandFlow'\n",
    "overland.Solver.Nonlinear.UseJacobian = True\n",
    "overland.Solver.Linear.Preconditioner.PCMatrixType = 'PFSymmetric'"
   ]
  },
  {
   "cell_type": "code",
   "execution_count": null,
   "metadata": {},
   "outputs": [],
   "source": [
    "# Import run information from pfidb\n",
    "overland = Run.from_definition(\"overland_tiltedV.pfidb\")\n",
    "\n",
    "#-----------------------------------------------------------------------------\n",
    "# New kinematic formulations without the zero channel\n",
    "# Note: The difference in configuration here is to be consistent with the way\n",
    "#   the upwinding is handled for the new and original fomulations.\n",
    "#   These two results should be almost identical for the new and old formulations\n",
    "#-----------------------------------------------------------------------------\n",
    "overland.TopoSlopesX.Type = 'Constant'\n",
    "overland.TopoSlopesX.GeomNames = 'left right channel'\n",
    "overland.TopoSlopesX.Geom.left.Value = -0.01\n",
    "overland.TopoSlopesX.Geom.right.Value = 0.01\n",
    "overland.TopoSlopesX.Geom.channel.Value = 0.01\n",
    "\n",
    "overland.TopoSlopesY.Type = 'Constant'\n",
    "overland.TopoSlopesY.GeomNames = 'domain'\n",
    "overland.TopoSlopesY.Geom.domain.Value = 0.01\n",
    "\n",
    "# run with KWE upwinding\n",
    "overland.Patch.z_upper.BCPressure.Type = 'OverlandKinematic'\n",
    "overland.Solver.Nonlinear.UseJacobian = True\n",
    "overland.Solver.Linear.Preconditioner.PCMatrixType = 'PFSymmetric'"
   ]
  },
  {
   "cell_type": "code",
   "execution_count": null,
   "metadata": {},
   "outputs": [],
   "source": [
    "# Import run information from pfidb\n",
    "overland = Run.from_definition(\"overland_tiltedV.pfidb\")\n",
    "\n",
    "#-----------------------------------------------------------------------------\n",
    "# New diffusive formulations without the zero channel (as compared to the first\n",
    "#    tests in overland_tiltedV_KWE.tcl)\n",
    "# Note: The difference in configuration here is to be consistent with the way\n",
    "#   the upwinding is handled for the new and original fomulations.\n",
    "#   These two results should be almost identical for the new and old formulations\n",
    "# Commented lines are from original TCL test - will need to convert to Python if running with\n",
    "# Python pftools\n",
    "#-----------------------------------------------------------------------------\n",
    "overland.TopoSlopesX.Type = 'Constant'\n",
    "overland.TopoSlopesX.GeomNames = 'left right channel'\n",
    "overland.TopoSlopesX.Geom.left.Value = -0.01\n",
    "overland.TopoSlopesX.Geom.right.Value = 0.01\n",
    "overland.TopoSlopesX.Geom.channel.Value = 0.01\n",
    "\n",
    "overland.TopoSlopesY.Type = 'Constant'\n",
    "overland.TopoSlopesY.GeomNames = 'domain'\n",
    "overland.TopoSlopesY.Geom.domain.Value = 0.01\n",
    "\n",
    "# run with DWE\n",
    "overland.Patch.z_upper.BCPressure.Type = 'OverlandDiffusive'\n",
    "overland.Solver.Nonlinear.UseJacobian = True\n",
    "overland.Solver.Linear.Preconditioner.PCMatrixType = 'PFSymmetric'"
   ]
  },
  {
   "cell_type": "markdown",
   "metadata": {},
   "source": [
    "Now that you have selected your formulation, the next code cells relate to keys for the activities."
   ]
  },
  {
   "cell_type": "markdown",
   "metadata": {},
   "source": [
    "Activity 1 [SOLUTION]: Change the slope of the channel and the manning's roughness and see how it affects the timing of runoff"
   ]
  },
  {
   "cell_type": "code",
   "execution_count": null,
   "metadata": {},
   "outputs": [],
   "source": [
    "#---------------------------------------------------------\n",
    "# Channel slope\n",
    "#---------------------------------------------------------\n",
    "overland.TopoSlopesX.Geom.channel.Value = 0.03 # NOTE: updated from 0.00\n",
    "\n",
    "#---------------------------------------------------------\n",
    "# Mannings coefficient\n",
    "#---------------------------------------------------------\n",
    "overland.Mannings.Type = 'Constant'\n",
    "overland.Mannings.GeomNames = 'domain'\n",
    "overland.Mannings.Geom.domain.Value = 3.e-5 # NOTE: updated from 3.e-6"
   ]
  },
  {
   "cell_type": "markdown",
   "metadata": {},
   "source": [
    "Activity 2 [SOLUTION]: Add a second rainstorm by decreasing the recession length (The key for this is: overland.Cycle.rainrec.rec.Length = 300) Note that 300 is the number of timesteps so this is actually 15 hours. "
   ]
  },
  {
   "cell_type": "code",
   "execution_count": null,
   "metadata": {},
   "outputs": [],
   "source": [
    "#-----------------------------------------------------------------------------\n",
    "# Time Cycles\n",
    "#-----------------------------------------------------------------------------\n",
    "overland.Cycle.Names = 'constant rainrec'\n",
    "overland.Cycle.constant.Names = 'alltime'\n",
    "overland.Cycle.constant.alltime.Length = 1\n",
    "overland.Cycle.constant.Repeat = -1\n",
    "\n",
    "# rainfall and recession time periods are defined here\n",
    "# rain for 1 hour, recession for 2 hours\n",
    "overland.Cycle.rainrec.Names = 'rain rec'\n",
    "overland.Cycle.rainrec.rain.Length = 2\n",
    "overland.Cycle.rainrec.rec.Length = 30 # NOTE: updated from 300\n",
    "overland.Cycle.rainrec.Repeat = -1"
   ]
  },
  {
   "cell_type": "markdown",
   "metadata": {},
   "source": [
    "Activity 3 [SOLUTION]: Turn the V so the streamflow flows out the north end of the domain instead of the south (This will also require them to change the outlet point that they plot for streamflow)"
   ]
  },
  {
   "cell_type": "code",
   "execution_count": null,
   "metadata": {},
   "outputs": [],
   "source": [
    "#---------------------------------------------------------\n",
    "# Change flow direction\n",
    "#---------------------------------------------------------\n",
    "overland.TopoSlopesY.Geom.domain.Value = -0.01 # NOTE: updated from 0.01"
   ]
  },
  {
   "cell_type": "markdown",
   "metadata": {},
   "source": [
    "Challenge [SOLUTION]: Turn the V 90 degrees. "
   ]
  },
  {
   "cell_type": "code",
   "execution_count": null,
   "metadata": {},
   "outputs": [],
   "source": [
    "#---------------------------------------------------------\n",
    "# Challenge: Turn V 90 degrees\n",
    "# (hint: changing some of the following keys will accomplish this)\n",
    "#---------------------------------------------------------\n",
    "# NOTE: Swapped TopoSlopesX and TopoSlopesY definitions\n",
    "overland.TopoSlopesY.Type = 'Constant'\n",
    "overland.TopoSlopesY.GeomNames = 'left right channel'\n",
    "overland.TopoSlopesY.Geom.left.Value = -0.01\n",
    "overland.TopoSlopesY.Geom.right.Value = 0.01\n",
    "overland.TopoSlopesY.Geom.channel.Value = 0.00\n",
    "\n",
    "overland.TopoSlopesX.Type = 'Constant'\n",
    "overland.TopoSlopesX.GeomNames = 'domain'\n",
    "overland.TopoSlopesX.Geom.domain.Value = 0.01"
   ]
  },
  {
   "cell_type": "code",
   "execution_count": null,
   "metadata": {},
   "outputs": [],
   "source": [
    "#-----------------------------------------------------------------------------\n",
    "# Run ParFlow\n",
    "#-----------------------------------------------------------------------------\n",
    "base = os.path.join(os.getcwd(), \"output\")\n",
    "mkdir(base)\n",
    "print(f\"base: {base}\")\n",
    "overland.run(working_directory=base)"
   ]
  },
  {
   "cell_type": "code",
   "execution_count": null,
   "metadata": {},
   "outputs": [],
   "source": []
  },
  {
   "cell_type": "markdown",
   "metadata": {},
   "source": [
    "Now we will plot some of the ParFlow outputs to visualize the pressure and a hydrograph at the outlet point."
   ]
  },
  {
   "cell_type": "code",
   "execution_count": null,
   "metadata": {},
   "outputs": [],
   "source": [
    "import parflow as pf\n",
    "import numpy as np  # we will use numpy to work with the data\n",
    "import matplotlib.pyplot as plt  # we will use matplotlib to plot the data\n",
    "from parflow.tools.fs import get_absolute_path\n",
    "from parflow.tools.io import write_pfb, read_pfb\n",
    "from parflow import Run\n",
    "import parflow.tools.hydrology as hydro\n",
    "\n",
    "def plot_domain(run_directory, variable, timestep=0):\n",
    "    \"\"\"Function to plot output from a ParFlow run\"\"\"\n",
    "\n",
    "    # Load the run from the file, this is the same as the run defined above\n",
    "    run = Run.from_definition(os.path.join(run_directory, \"overland_tiltedV.pfidb\"))   \n",
    "\n",
    "    data = run.data_accessor # get the data accessor, this makes it easier to access the data from the run\n",
    "    nt = len(data.times)  # get the number of time steps\n",
    "    nx = data.shape[2]    # get the number of cells in the x direction\n",
    "    ny = data.shape[1]    # get the number of cells in the y direction\n",
    "    nz = data.shape[0]    # get the number of cells in the z direction\n",
    "    dx = data.dx          # get the cell size in the x direction\n",
    "    dy = data.dy          # get the cell size in the y direction\n",
    "    dz = data.dz          # get the cell size in the z direction, this is a 1D array of size nz\n",
    "\n",
    "    # Print a summary of the run data\n",
    "    print(f\"nx = {nx}, ny = {ny}, nz = {nz}, nt = {nt}\")\n",
    "    print(f\"dx = {dx}, dy = {dy}, dz = {dz}\")\n",
    "\n",
    "    # Load the data\n",
    "    data = read_pfb(get_absolute_path(f\"overland_tiltedV.out.{variable}.{str(timestep).zfill(5)}.pfb\"))[0, :, :]\n",
    "    \n",
    "    # Set negative saturation values to NaN\n",
    "    if variable == \"satur\":\n",
    "        data[data < 0.0] = np.nan\n",
    "    \n",
    "    # Set up x and z to match the shape of the ParFlow grid\n",
    "    x = np.arange(0.0,(nx+1)*dx,dx)\n",
    "    y = np.arange(0.0,(ny+1)*dy,dy)\n",
    "    z = np.zeros(nz+1)\n",
    "    z[1:] = np.cumsum(dz)\n",
    "\n",
    "    # Get limits for plotting\n",
    "    vmin = np.nanmin(data)\n",
    "    vmax = np.nanmax(data)\n",
    "    print(f\"vmin: {vmin}, vmax: {vmax}\")\n",
    "    \n",
    "    # Define labels for plots\n",
    "    if variable == \"satur\":\n",
    "        label = \"Saturation [-]\"\n",
    "        title = \"Saturation\"\n",
    "    elif variable == \"press\":\n",
    "        label = \"Pressure Head [m]\"\n",
    "        title = \"Pressure Head\"\n",
    "\n",
    "    # Use pcolormesh to plot the data with the x and z coordinates with lines \n",
    "    # for the grid mesh from the ParFlow run grid\n",
    "    fig, ax = plt.subplots()\n",
    "    im = ax.pcolormesh(x, y, data, vmin=vmin, vmax=vmax, cmap='plasma_r')\n",
    "    plt.colorbar(im, ax=ax, label=label)\n",
    "    \n",
    "    # Include mesh lines\n",
    "    ax.hlines(z,x[0],x[-1],colors='white',linewidth=0.5)\n",
    "    ax.vlines(x,z[0],z[-1],colors='white',linewidth=0.5)\n",
    "    \n",
    "    ax.set_xlabel('x [m]')\n",
    "    ax.set_ylabel('y [m]')\n",
    "    ax.set_title(f\"{title} at t={timestep}\")\n",
    "    plt.show()"
   ]
  },
  {
   "cell_type": "code",
   "execution_count": null,
   "metadata": {},
   "outputs": [],
   "source": [
    "# Call plotting function at multiple timesteps to see how pressure changes over time\n",
    "timesteps = [0, 10, 20, 30, 40]\n",
    "\n",
    "for t in timesteps:\n",
    "    plot_domain(base, \"press\", timestep=t)"
   ]
  },
  {
   "cell_type": "code",
   "execution_count": null,
   "metadata": {},
   "outputs": [],
   "source": []
  },
  {
   "cell_type": "code",
   "execution_count": null,
   "metadata": {},
   "outputs": [],
   "source": []
  },
  {
   "cell_type": "code",
   "execution_count": null,
   "metadata": {},
   "outputs": [],
   "source": []
  },
  {
   "cell_type": "code",
   "execution_count": null,
   "metadata": {},
   "outputs": [],
   "source": []
  }
 ],
 "metadata": {
  "kernelspec": {
   "display_name": "Python 3 (ipykernel)",
   "language": "python",
   "name": "python3"
  },
  "language_info": {
   "codemirror_mode": {
    "name": "ipython",
    "version": 3
   },
   "file_extension": ".py",
   "mimetype": "text/x-python",
   "name": "python",
   "nbconvert_exporter": "python",
   "pygments_lexer": "ipython3",
   "version": "3.11.4"
  }
 },
 "nbformat": 4,
 "nbformat_minor": 4
}

{
 "cells": [
  {
   "cell_type": "markdown",
   "metadata": {},
   "source": [
    "# ParFlow Short Course: Overland Flow\n",
    "## Exercise: Rainfall Runoff Hydrograph on a Tilted-V\n",
    "\n",
    "### Domain Description\n",
    " - A tilted V domain that consists of two hillslopes sloping toward a central channel. \n",
    " - The hillslopes and channel are created using three separate box geometries. \n",
    " - The domain is consists of a single vertical layer 0.05m thick, and 5 grid cells in the x and y direction each with a cell size of 10.0\n",
    " - The domain is initialized to be totally dry (with a water table set at 3m below the surface, which is below the bottom of the domain)\n",
    " - Permeability, porosity and  hydraulic conductivity are all set very low to create an impermeable surface as we are really just focusing on runoff in this test. \n",
    " - Simulations run for 2 hours with a time step of 0.05 hours. \n",
    " - Rain is at a constant rate of 0.01m/hour for 0.1 hours (2 timesteps) followed by a rain free period for the rest of the simulation \n",
    " - The examples show how to run with three different overland flow formulations: OverlandFlow, OverlandKinematic and Diffusive"
   ]
  },
  {
   "cell_type": "markdown",
   "metadata": {},
   "source": [
    "### Activities\n",
    "You will explore overland flow on a Tilted-V domain. Please see [tilted_v_domain_setup.ipynb](https://github.com/hydroframe/parflow_short_course_updated/blob/main/overland_flow/tilted_v_domain_setup.ipynb) if you would like to see the full set of keys used to define the domain for this ParFlow run. In this section we are focusing on the ParFlow keys related to the [Topographical Slopes](https://parflow.readthedocs.io/en/latest/keys.html#topographical-slopes), [Manning's Roughness Values](https://parflow.readthedocs.io/en/latest/keys.html#mannings-roughness-values), and [Time Cycles](https://parflow.readthedocs.io/en/latest/keys.html#time-cycles). We will explain these keys in more detail in the cells below. Also feel free to explore the [ParFlow manual](https://parflow.readthedocs.io/en/latest/keys.html#) for detail on all ParFlow keys.\n",
    "\n",
    "Please complete the following:\n",
    "1. Change the slope of the channel and the manning's roughness and see how it affects the timing of runoff\n",
    "1. Add a second rainstorm by decreasing the recession length (The key for this is: overland.Cycle.rainrec.rec.Length = 300) Note that 300 is the number of timesteps so this is actually 15 hours. \n",
    "1. Turn the V so the streamflow flows out the north end of the domain instead of the south (This will also require them to change the outlet point that they plot for streamflow)\n",
    "1. Extra challenge: Turn the V 90 degrees. "
   ]
  },
  {
   "cell_type": "code",
   "execution_count": null,
   "metadata": {},
   "outputs": [],
   "source": [
    "# Import the ParFlow package\n",
    "from parflow import Run\n",
    "import os\n",
    "import sys\n",
    "from parflow.tools.fs import mkdir, cp, chdir, get_absolute_path, rm, exists\n",
    "import parflow.tools.hydrology as hydro\n",
    "\n",
    "# Import functions for plotting\n",
    "sys.path.append(os.path.abspath(os.path.join(os.getcwd(), \"../plots\")))\n",
    "from plots import plot_domain_overland, plot_streamflow"
   ]
  },
  {
   "cell_type": "markdown",
   "metadata": {},
   "source": [
    "Below are three formulations for how to set up a Tilted V domain. Please select and run one and complete the exercises with it."
   ]
  },
  {
   "cell_type": "code",
   "execution_count": null,
   "metadata": {},
   "outputs": [],
   "source": [
    "# Import run information from pfidb\n",
    "overland = Run.from_definition(\"overland_tiltedV.pfidb\")\n",
    "\n",
    "#-----------------------------------------------------------------------------\n",
    "# Tilted-V Formulation 1\n",
    "# Original formulation with a zero value channel\n",
    "#-----------------------------------------------------------------------------\n",
    "overland.TopoSlopesX.Type = 'Constant'\n",
    "overland.TopoSlopesX.GeomNames = 'left right channel'\n",
    "overland.TopoSlopesX.Geom.left.Value = -0.01\n",
    "overland.TopoSlopesX.Geom.right.Value = 0.01\n",
    "overland.TopoSlopesX.Geom.channel.Value = 0.00\n",
    "\n",
    "overland.TopoSlopesY.Type = 'Constant'\n",
    "overland.TopoSlopesY.GeomNames = 'domain'\n",
    "overland.TopoSlopesY.Geom.domain.Value = 0.01\n",
    "\n",
    "# original approach from K&M AWR 2006\n",
    "overland.Patch.z_upper.BCPressure.Type = 'OverlandFlow'\n",
    "overland.Solver.Nonlinear.UseJacobian = True\n",
    "overland.Solver.Linear.Preconditioner.PCMatrixType = 'PFSymmetric'"
   ]
  },
  {
   "cell_type": "code",
   "execution_count": null,
   "metadata": {},
   "outputs": [],
   "source": [
    "# Import run information from pfidb\n",
    "overland = Run.from_definition(\"overland_tiltedV.pfidb\")\n",
    "\n",
    "#-----------------------------------------------------------------------------\n",
    "# Tilted-V Formulation 2\n",
    "# New kinematic formulations without the zero channel\n",
    "# Note: The difference in configuration here is to be consistent with the way\n",
    "#   the upwinding is handled for the new and original fomulations.\n",
    "#   These two results should be almost identical for the new and old formulations\n",
    "#-----------------------------------------------------------------------------\n",
    "overland.TopoSlopesX.Type = 'Constant'\n",
    "overland.TopoSlopesX.GeomNames = 'left right channel'\n",
    "overland.TopoSlopesX.Geom.left.Value = -0.01\n",
    "overland.TopoSlopesX.Geom.right.Value = 0.01\n",
    "overland.TopoSlopesX.Geom.channel.Value = 0.01\n",
    "\n",
    "overland.TopoSlopesY.Type = 'Constant'\n",
    "overland.TopoSlopesY.GeomNames = 'domain'\n",
    "overland.TopoSlopesY.Geom.domain.Value = 0.01\n",
    "\n",
    "# run with KWE upwinding\n",
    "overland.Patch.z_upper.BCPressure.Type = 'OverlandKinematic'\n",
    "overland.Solver.Nonlinear.UseJacobian = True\n",
    "overland.Solver.Linear.Preconditioner.PCMatrixType = 'PFSymmetric'"
   ]
  },
  {
   "cell_type": "code",
   "execution_count": null,
   "metadata": {},
   "outputs": [],
   "source": [
    "# Import run information from pfidb\n",
    "overland = Run.from_definition(\"overland_tiltedV.pfidb\")\n",
    "\n",
    "#-----------------------------------------------------------------------------\n",
    "# Tilted-V Formulation 3\n",
    "# New diffusive formulations without the zero channel (as compared to the first\n",
    "#    tests in overland_tiltedV_KWE.tcl)\n",
    "# Note: The difference in configuration here is to be consistent with the way\n",
    "#   the upwinding is handled for the new and original fomulations.\n",
    "#   These two results should be almost identical for the new and old formulations\n",
    "# Commented lines are from original TCL test - will need to convert to Python if running with\n",
    "# Python pftools\n",
    "#-----------------------------------------------------------------------------\n",
    "overland.TopoSlopesX.Type = 'Constant'\n",
    "overland.TopoSlopesX.GeomNames = 'left right channel'\n",
    "overland.TopoSlopesX.Geom.left.Value = -0.01\n",
    "overland.TopoSlopesX.Geom.right.Value = 0.01\n",
    "overland.TopoSlopesX.Geom.channel.Value = 0.01\n",
    "\n",
    "overland.TopoSlopesY.Type = 'Constant'\n",
    "overland.TopoSlopesY.GeomNames = 'domain'\n",
    "overland.TopoSlopesY.Geom.domain.Value = 0.01\n",
    "\n",
    "# run with DWE\n",
    "overland.Patch.z_upper.BCPressure.Type = 'OverlandDiffusive'\n",
    "overland.Solver.Nonlinear.UseJacobian = True\n",
    "overland.Solver.Linear.Preconditioner.PCMatrixType = 'PFSymmetric'"
   ]
  },
  {
   "cell_type": "markdown",
   "metadata": {},
   "source": [
    "Now that you have selected your formulation, the next code cells relate to keys for the activities."
   ]
  },
  {
   "cell_type": "markdown",
   "metadata": {},
   "source": [
    "Activity 1: Change the slope of the channel and the manning's roughness and see how it affects the timing of runoff"
   ]
  },
  {
   "cell_type": "code",
   "execution_count": null,
   "metadata": {},
   "outputs": [],
   "source": [
    "#---------------------------------------------------------\n",
    "# Channel slope\n",
    "#---------------------------------------------------------\n",
    "overland.TopoSlopesX.Geom.channel.Value = 0.00\n",
    "\n",
    "#---------------------------------------------------------\n",
    "# Mannings coefficient\n",
    "#---------------------------------------------------------\n",
    "overland.Mannings.Type = 'Constant'\n",
    "overland.Mannings.GeomNames = 'domain'\n",
    "overland.Mannings.Geom.domain.Value = 3.e-6"
   ]
  },
  {
   "cell_type": "markdown",
   "metadata": {},
   "source": [
    "Activity 2: Add a second rainstorm by decreasing the recession length (The key for this is: overland.Cycle.rainrec.rec.Length = 300) Note that 300 is the number of timesteps so this is actually 15 hours. "
   ]
  },
  {
   "cell_type": "code",
   "execution_count": null,
   "metadata": {},
   "outputs": [],
   "source": [
    "#-----------------------------------------------------------------------------\n",
    "# Time Cycles\n",
    "#-----------------------------------------------------------------------------\n",
    "overland.Cycle.Names = 'constant rainrec'\n",
    "overland.Cycle.constant.Names = 'alltime'\n",
    "overland.Cycle.constant.alltime.Length = 1\n",
    "overland.Cycle.constant.Repeat = -1\n",
    "\n",
    "# rainfall and recession time periods are defined here\n",
    "# rain for 1 hour, recession for 2 hours\n",
    "overland.Cycle.rainrec.Names = 'rain rec'\n",
    "overland.Cycle.rainrec.rain.Length = 2\n",
    "overland.Cycle.rainrec.rec.Length = 300\n",
    "overland.Cycle.rainrec.Repeat = -1"
   ]
  },
  {
   "cell_type": "markdown",
   "metadata": {},
   "source": [
    "Activity 3: Turn the V so the streamflow flows out the north end of the domain instead of the south (This will also require them to change the outlet point that they plot for streamflow)"
   ]
  },
  {
   "cell_type": "code",
   "execution_count": null,
   "metadata": {},
   "outputs": [],
   "source": [
    "#---------------------------------------------------------\n",
    "# Change flow direction\n",
    "#---------------------------------------------------------\n",
    "overland.TopoSlopesY.Geom.domain.Value = 0.01"
   ]
  },
  {
   "cell_type": "markdown",
   "metadata": {},
   "source": [
    "Challenge: Turn the V 90 degrees. "
   ]
  },
  {
   "cell_type": "code",
   "execution_count": null,
   "metadata": {},
   "outputs": [],
   "source": [
    "#---------------------------------------------------------\n",
    "# Challenge: Turn V 90 degrees\n",
    "# (hint: changing some of the following keys will accomplish this)\n",
    "#---------------------------------------------------------\n",
    "overland.TopoSlopesX.Type = 'Constant'\n",
    "overland.TopoSlopesX.GeomNames = 'left right channel'\n",
    "overland.TopoSlopesX.Geom.left.Value = -0.01\n",
    "overland.TopoSlopesX.Geom.right.Value = 0.01\n",
    "overland.TopoSlopesX.Geom.channel.Value = 0.00\n",
    "\n",
    "overland.TopoSlopesY.Type = 'Constant'\n",
    "overland.TopoSlopesY.GeomNames = 'domain'\n",
    "overland.TopoSlopesY.Geom.domain.Value = 0.01"
   ]
  },
  {
   "cell_type": "code",
   "execution_count": null,
   "metadata": {},
   "outputs": [],
   "source": [
    "#-----------------------------------------------------------------------------\n",
    "# Run ParFlow\n",
    "#-----------------------------------------------------------------------------\n",
    "base = os.path.join(os.getcwd(), \"output\")\n",
    "mkdir(base)\n",
    "print(f\"base: {base}\")\n",
    "overland.run(working_directory=base)"
   ]
  },
  {
   "cell_type": "markdown",
   "metadata": {},
   "source": [
    "Now we will plot some of the ParFlow outputs to visualize the pressure and a hydrograph at the outlet point."
   ]
  },
  {
   "cell_type": "code",
   "execution_count": null,
   "metadata": {},
   "outputs": [],
   "source": [
    "# Call plotting function at multiple timesteps to see how pressure changes over time\n",
    "timesteps = [0, 10, 20, 30, 40]\n",
    "\n",
    "for t in timesteps:\n",
    "    plot_domain_overland(base, \"press\", timestep=t)"
   ]
  },
  {
   "cell_type": "code",
   "execution_count": null,
   "metadata": {},
   "outputs": [],
   "source": [
    "# Call plotting function with default grid cell location (halfway along x-axis, 0 along y-axis)\n",
    "plot_streamflow(base)"
   ]
  },
  {
   "cell_type": "code",
   "execution_count": null,
   "metadata": {},
   "outputs": [],
   "source": []
  }
 ],
 "metadata": {
  "kernelspec": {
   "display_name": "Python 3 (ipykernel)",
   "language": "python",
   "name": "python3"
  },
  "language_info": {
   "codemirror_mode": {
    "name": "ipython",
    "version": 3
   },
   "file_extension": ".py",
   "mimetype": "text/x-python",
   "name": "python",
   "nbconvert_exporter": "python",
   "pygments_lexer": "ipython3",
   "version": "3.9.17"
  }
 },
 "nbformat": 4,
 "nbformat_minor": 4
}

{
 "cells": [
  {
   "cell_type": "markdown",
   "metadata": {},
   "source": [
    "# ParFlow Short Course: Gridding\n",
    "## Exercise: Gridding with a Box Domain\n",
    "\n",
    "### Domain Description\n",
    "We will be working with a simple 2D box cross section domain with the following characteristics:\n",
    " - A simple cross section box domain\n",
    " - The domain is consists of a single row of 20 cells (each of which are 100 m long and 2 m wide) with 10 vertical layers of varying thickness that extend to a thickness of 48m\n",
    " - The domain slopes from right to left with a constant slope of 0.1\n",
    " - The subsurface is homogeneous\n",
    " - Simulations run for 100 hours with a time step of 1 hour.\n",
    " - There are no-flow boundary conditions on all sides except the upper x boundary (i.e. the right boundary) which has a Direchlet (constant head) boundary condition set to 1m below the surface and the top surface which has an overland flow boundary condition \n",
    " - A constant recharge flux of 0.01m/h is applied across the top of the domain \n",
    " - The initial head for the entire domain is set to 10m below the land surface\n",
    "\n",
    "### Topics Covered\n",
    "1. Spatial Gridding\n",
    "2. Temporal Gridding\n",
    "3. Block Domain vs. Solid File Domain"
   ]
  },
  {
   "cell_type": "markdown",
   "metadata": {},
   "source": [
    "## Topic 1: Spatial Gridding\n",
    "\n",
    "### Activities\n",
    "You will explore how different spatial grid conditions affect the conditions of a ParFlow run. The following notebook cells set up a ParFlow run by importing a ParFlow run definition, run ParFlow for 100 timesteps, and visualize the resulting ParFlow run grid. Please see [box_domain_setup_full.ipynb](https://github.com/hydroframe/parflow_short_course_updated/blob/main/gridding/box_domain_setup_full.ipynb) if you would like to see the full set of keys used to define the domain for this ParFlow run. In this section we are focusing on the ParFlow keys related to the [Computational Grid](https://parflow.readthedocs.io/en/latest/keys.html#computational-grid), [Domain Geometry](https://parflow.readthedocs.io/en/latest/keys.html#geometries), and [dz Multipliers](https://parflow.readthedocs.io/en/latest/keys.html#dzmultipliers). We will explain these keys in more detail in the cells below. Also feel free to explore the [ParFlow manual](https://parflow.readthedocs.io/en/latest/keys.html#) for detail on all ParFlow keys.\n",
    "\n",
    "We'd like for you to first run the notebook cells in this section as-is to see the default box domain visualized. Then you will experiment with changing several of the ParFlow keys to see how the resulting grid changes.\n",
    "\n",
    "Please complete the following:\n",
    "1. Run the following notebook cells in this section as-is. What characteristics do you notice about the grids presented in the plots?  \n",
    "1. Experiment with changing the number and size of the grid cells by redefining the related ParFlow keys and re-running the notebook. How does the ParFlow grid change as a result?  \n",
    "    1. Keys for the number of grid cells: `ComputationalGrid.NX`, `ComputationalGrid.NY`, `ComputationalGrid.NZ`\n",
    "    1. Keys for the size of grid cells: `ComputationalGrid.DX`, `ComputationalGrid.DY`, `ComputationalGrid.DZ`\n",
    "1. Experiment with restricting only part of the domain to be in the \"active\" region. This means that the ParFlow grid only considers this region when solving. Do this by setting `Geom.domain.Upper.X` to be half of what it was previously. Re-run the notebook cells and notice how the ParFlow grid changes as a result.\n",
    "1. Experiment with defining a variable dz. This can be done by setting the ParFlow key `Solver.Nonlinear.VariableDz` to `True`. We have defined some depth levels in the ParFlow keys `Cell._0.dzScale.Value` to `Cell._9.dzScale.Value`. Compare the visual of the grid before and after this change is made. What do you notice about the resulting grid cell spacing?"
   ]
  },
  {
   "cell_type": "markdown",
   "metadata": {},
   "source": [
    " "
   ]
  },
  {
   "cell_type": "code",
   "execution_count": null,
   "metadata": {},
   "outputs": [],
   "source": [
    "# Import the ParFlow package\n",
    "from parflow import Run\n",
    "import os\n",
    "import sys\n",
    "from parflow.tools.fs import mkdir, cp, chdir, get_absolute_path, rm, exists\n",
    "\n",
    "# Import functions for plotting\n",
    "sys.path.append(os.path.abspath(os.path.join(os.getcwd(), \"../plots\")))\n",
    "from plots import plot_domain\n",
    "\n",
    "# Import run information from pfidb\n",
    "domain_example = Run.from_definition(\"domain_example.pfidb\")"
   ]
  },
  {
   "cell_type": "code",
   "execution_count": null,
   "metadata": {},
   "outputs": [],
   "source": [
    "#-----------------------------------------------------------------------------\n",
    "# Computational Grid\n",
    "#-----------------------------------------------------------------------------\n",
    "\n",
    "# Coordinates (length units)\n",
    "# Locate the origin in the domain.\n",
    "domain_example.ComputationalGrid.Lower.X = 0.0\n",
    "domain_example.ComputationalGrid.Lower.Y = 0.0\n",
    "domain_example.ComputationalGrid.Lower.Z = 0.0\n",
    "\n",
    "# Cell size (length units)\n",
    "domain_example.ComputationalGrid.DX      = 100.0\n",
    "domain_example.ComputationalGrid.DY      = 2.0\n",
    "domain_example.ComputationalGrid.DZ      = 1.0\n",
    "\n",
    "# Grid dimensions (integer)\n",
    "domain_example.ComputationalGrid.NX      = 20\n",
    "domain_example.ComputationalGrid.NY      = 1\n",
    "domain_example.ComputationalGrid.NZ      = 10\n",
    "\n",
    "#-----------------------------------------------------------------------------\n",
    "# Domain Geometry Input\n",
    "#-----------------------------------------------------------------------------\n",
    "domain_example.GeomInput.domain_input.InputType = 'Box'\n",
    "domain_example.GeomInput.domain_input.GeomName  = 'domain'\n",
    "\n",
    "#-----------------------------------------------------------------------------\n",
    "# Domain Geometry\n",
    "#-----------------------------------------------------------------------------\n",
    "domain_example.Geom.domain.Lower.X = 0.0\n",
    "domain_example.Geom.domain.Lower.Y = 0.0\n",
    "domain_example.Geom.domain.Lower.Z = 0.0\n",
    "\n",
    "domain_example.Geom.domain.Upper.X = 2000.0\n",
    "domain_example.Geom.domain.Upper.Y = 2.0\n",
    "domain_example.Geom.domain.Upper.Z = 10.0\n",
    "\n",
    "domain_example.Geom.domain.Patches = 'x_lower x_upper y_lower y_upper z_lower z_upper'\n",
    "\n",
    "#--------------------------------------------\n",
    "# Variable dz Assignments\n",
    "#------------------------------------------\n",
    "domain_example.Solver.Nonlinear.VariableDz = False\n",
    "domain_example.dzScale.GeomNames           = 'domain'\n",
    "domain_example.dzScale.Type                = 'nzList'\n",
    "domain_example.dzScale.nzListNumber        = 10\n",
    "\n",
    "# cells start at the bottom (0) and moves up to the top\n",
    "# domain is 49m thick, root zone is down to 4 cells \n",
    "# so the root zone is 2m thick\n",
    "domain_example.Cell._0.dzScale.Value  = 10.0   # 10*1.0 = 10m  layer\n",
    "domain_example.Cell._1.dzScale.Value  = 10.0   \n",
    "domain_example.Cell._2.dzScale.Value  = 10.0   \n",
    "domain_example.Cell._3.dzScale.Value  = 10.0\n",
    "domain_example.Cell._4.dzScale.Value  = 5.0\n",
    "domain_example.Cell._5.dzScale.Value  = 1.0\n",
    "domain_example.Cell._6.dzScale.Value  = 1.0\n",
    "domain_example.Cell._7.dzScale.Value  = 0.6   # 0.6*1.0 = 0.6  60cm 3rd layer\n",
    "domain_example.Cell._8.dzScale.Value  = 0.3   # 0.3*1.0 = 0.3  30cm 2nd layer\n",
    "domain_example.Cell._9.dzScale.Value  = 0.1   # 0.1*1.0 = 0.1  10cm top layer\n",
    "\n",
    "#-----------------------------------------------------------------------------\n",
    "# Run ParFlow\n",
    "#-----------------------------------------------------------------------------\n",
    "base = os.path.join(os.getcwd(), \"output\")\n",
    "mkdir(base)\n",
    "print(f\"base: {base}\")\n",
    "domain_example.run(working_directory=base)"
   ]
  },
  {
   "cell_type": "markdown",
   "metadata": {},
   "source": [
    "Now let's take a look at the ParFlow grid. We will visualize how saturation and pressure vary within the defined grid."
   ]
  },
  {
   "cell_type": "code",
   "execution_count": null,
   "metadata": {},
   "outputs": [],
   "source": [
    "# Call plotting function for saturation and pressure\n",
    "plot_domain(base, \"satur\", timestep=0)\n",
    "plot_domain(base, \"press\", timestep=0)"
   ]
  },
  {
   "cell_type": "markdown",
   "metadata": {},
   "source": [
    "## Topic 2: Temporal Gridding\n",
    "\n",
    "### Activities\n",
    "You will explore how different temporal grid conditions affect the conditions of a ParFlow run. The following notebook cells set up a ParFlow run by importing a ParFlow run definition, run ParFlow for 100 timesteps, and visualize the resulting ParFlow run grid. Please see [box_domain_setup_full.ipynb](https://github.com/hydroframe/parflow_short_course_updated/blob/main/gridding/box_domain_setup_full.ipynb) if you would like to see the full set of keys used to define the domain for this ParFlow run. In this section we are focusing on the ParFlow keys related to [Timing](https://parflow.readthedocs.io/en/latest/keys.html#timing-information). We will explain these keys in more detail in the cells below. Also feel free to explore the [ParFlow manual](https://parflow.readthedocs.io/en/latest/keys.html#) for detail on all ParFlow keys.\n",
    "\n",
    "We'd like for you to first run the notebook cells in this section as-is to see the default box domain visualized. Then you will experiment with changing several of the ParFlow keys to see how the resulting grid changes.\n",
    "\n",
    "Please complete the following:\n",
    "1. Run the following notebook cells in this section as-is. What characteristics do you notice about the grids presented in the plots?  \n",
    "1. Experiment with changing the start and stop times for the run using the keys `TimingInfo.StartTime` and `TimingInfo.StopTime`. Review the time series plot and compare how the outputs change as these key values change."
   ]
  },
  {
   "cell_type": "code",
   "execution_count": null,
   "metadata": {},
   "outputs": [],
   "source": [
    "# Import run information from pfidb\n",
    "domain_example = Run.from_definition(\"domain_example.pfidb\")\n",
    "\n",
    "#-----------------------------------------------------------------------------\n",
    "# Setup Timing\n",
    "#-----------------------------------------------------------------------------\n",
    "\n",
    "# Sets time units for time cycles (T)\n",
    "domain_example.TimingInfo.BaseUnit     = 1.0\n",
    "\n",
    "# Initial output file number\n",
    "domain_example.TimingInfo.StartCount   = 0\n",
    "\n",
    "# Start and finish time for simulation (T)\n",
    "domain_example.TimingInfo.StartTime    = 0.0\n",
    "domain_example.TimingInfo.StopTime     = 100.0\n",
    "\n",
    "# Interval to write output (T) -1 outputs at every timestep\n",
    "domain_example.TimingInfo.DumpInterval = 1.0\n",
    "\n",
    "# Timestep type\n",
    "domain_example.TimeStep.Type           = 'Constant'\n",
    "\n",
    "# Delta T (T)\n",
    "domain_example.TimeStep.Value          = 1.0\n",
    "\n",
    "#-----------------------------------------------------------------------------\n",
    "# Run ParFlow\n",
    "#-----------------------------------------------------------------------------\n",
    "base = os.path.join(os.getcwd(), \"output\")\n",
    "mkdir(base)\n",
    "print(f\"base: {base}\")\n",
    "domain_example.run(working_directory=base)"
   ]
  },
  {
   "cell_type": "code",
   "execution_count": null,
   "metadata": {},
   "outputs": [],
   "source": [
    "# Call plotting function at multiple timesteps\n",
    "timesteps = [0, 5, 10]\n",
    "\n",
    "for t in timesteps:\n",
    "    plot_domain(base, \"satur\", timestep=t)"
   ]
  },
  {
   "cell_type": "markdown",
   "metadata": {},
   "source": [
    "## Topic 3: Working from a Solid File\n",
    "\n",
    ">>> Something about the crater domain here.\n",
    "\n",
    "### Activities\n",
    "\n",
    "You will explore how using a solid file to define the domain affects the conditions of a ParFlow run. The following notebook cells set up a ParFlow run by importing a ParFlow run definition, run ParFlow for 100 timesteps, and visualize the resulting ParFlow run grid. Please see [crater_domain_setup_full.ipynb](https://github.com/hydroframe/parflow_short_course_updated/blob/main/gridding/crater_domain_setup_full.ipynb) if you would like to see the full set of keys used to define the domain for this ParFlow run. In this section we are focusing on the ParFlow keys related to [Geometries](https://parflow.readthedocs.io/en/latest/keys.html#geometries). We will explain these keys in more detail in the cells below. Also feel free to explore the [ParFlow manual](https://parflow.readthedocs.io/en/latest/keys.html#) for detail on all ParFlow keys.\n",
    "\n",
    "\n",
    "Please complete the following:\n",
    "1. Run the following notebook cells in this section as-is. The first ParFlow run utilizes a box domain while the second ParFlow run defines the domain with the use of a solid file. What differences do you notice between these two domain definitions?"
   ]
  },
  {
   "cell_type": "code",
   "execution_count": null,
   "metadata": {},
   "outputs": [],
   "source": [
    "# Import the ParFlow package\n",
    "from parflow import Run\n",
    "import os\n",
    "from parflow.tools.fs import mkdir, cp, chdir, get_absolute_path, rm, exists\n",
    "\n",
    "# Import run information from pfidb\n",
    "crater = Run.from_definition(\"crater.pfidb\")"
   ]
  },
  {
   "cell_type": "markdown",
   "metadata": {},
   "source": [
    "First we run the Crater 2D domain as defined using `InputType = 'Box'`."
   ]
  },
  {
   "cell_type": "code",
   "execution_count": null,
   "metadata": {},
   "outputs": [],
   "source": [
    "#---------------------------------------------------------\n",
    "# The Names of the GeomInputs\n",
    "#---------------------------------------------------------\n",
    "Zones = \"zone1 zone2 zone3above4 zone3left4 zone3right4 zone3below4 zone4\"\n",
    "crater.GeomInput.Names = f'domain_input {Zones} background'\n",
    "\n",
    "crater.GeomInput.domain_input.InputType = 'Box'\n",
    "crater.GeomInput.domain_input.GeomName  = 'domain'\n",
    "\n",
    "crater.Geom.domain.Lower.X = 0.0\n",
    "crater.Geom.domain.Lower.Y = 0.0\n",
    "crater.Geom.domain.Lower.Z = 0.0\n",
    "\n",
    "crater.Geom.domain.Upper.X = 400.0\n",
    "crater.Geom.domain.Upper.Y = 1.0\n",
    "crater.Geom.domain.Upper.Z = 200.0\n",
    "\n",
    "crater.Geom.domain.Patches = 'z_upper x_lower y_lower x_upper y_upper z_lower'\n",
    "\n",
    "# Run the model\n",
    "base = os.path.join(os.getcwd(), \"output\")\n",
    "mkdir(base)\n",
    "print(f\"base: {base}\")\n",
    "crater.run(working_directory=base)"
   ]
  },
  {
   "cell_type": "code",
   "execution_count": null,
   "metadata": {},
   "outputs": [],
   "source": [
    "# Call plotting function at multiple timesteps\n",
    "timesteps = [0, 5, 10]\n",
    "\n",
    "for t in timesteps:\n",
    "    plot_domain(base, \"press\", timestep=t)\n",
    "    plot_domain(base, \"satur\", timestep=t)"
   ]
  },
  {
   "cell_type": "markdown",
   "metadata": {},
   "source": [
    "Next we run the Crater 2D domain as defined using `InputType = 'SolidFile'`."
   ]
  },
  {
   "cell_type": "code",
   "execution_count": null,
   "metadata": {},
   "outputs": [],
   "source": [
    "#---------------------------------------------------------\n",
    "# The Names of the GeomInputs\n",
    "#---------------------------------------------------------\n",
    "\n",
    "crater.GeomInput.Names = f'solidinput {Zones} background'\n",
    "crater.GeomInput.solidinput.InputType = 'SolidFile'\n",
    "crater.GeomInput.solidinput.GeomNames = 'domain'\n",
    "crater.GeomInput.solidinput.FileName = 'crater2D.pfsol'\n",
    "\n",
    "# Add the \"infiltration\" patch (the solid file has 7 patches)\n",
    "crater.Geom.domain.Patches = 'infiltration z_upper x_lower y_lower x_upper y_upper z_lower'\n",
    "crater.BCPressure.PatchNames = crater.Geom.domain.Patches\n",
    "\n",
    "crater.Patch.infiltration.BCPressure.Type = 'FluxConst'\n",
    "crater.Patch.infiltration.BCPressure.Cycle = 'onoff'\n",
    "crater.Patch.infiltration.BCPressure.on.Value = -0.10\n",
    "crater.Patch.infiltration.BCPressure.off.Value = 0.0\n",
    "\n",
    "crater.Geom.infiltration.ICPressure.Value = 10.0\n",
    "crater.Geom.infiltration.ICPressure.RefPatch = 'infiltration'\n",
    "crater.Geom.infiltration.ICPressure.RefGeom = 'domain'\n",
    "\n",
    "# Run the model\n",
    "base = os.path.join(os.getcwd(), \"output\")\n",
    "mkdir(base)\n",
    "print(f\"base: {base}\")\n",
    "crater.run(working_directory=base)"
   ]
  },
  {
   "cell_type": "code",
   "execution_count": null,
   "metadata": {},
   "outputs": [],
   "source": [
    "# Call plotting function at multiple timesteps\n",
    "timesteps = [0, 5, 10]\n",
    "\n",
    "for t in timesteps:\n",
    "    plot_domain(base, \"press\", timestep=t)\n",
    "    plot_domain(base, \"satur\", timestep=t)"
   ]
  }
 ],
 "metadata": {
  "kernelspec": {
   "display_name": "Python 3 (ipykernel)",
   "language": "python",
   "name": "python3"
  },
  "language_info": {
   "codemirror_mode": {
    "name": "ipython",
    "version": 3
   },
   "file_extension": ".py",
   "mimetype": "text/x-python",
   "name": "python",
   "nbconvert_exporter": "python",
   "pygments_lexer": "ipython3",
   "version": "3.11.4"
  }
 },
 "nbformat": 4,
 "nbformat_minor": 4
}

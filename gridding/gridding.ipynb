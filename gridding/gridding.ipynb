{
 "cells": [
  {
   "cell_type": "markdown",
   "metadata": {},
   "source": [
    "# ParFlow Short Course: Gridding\n",
    "## Exercise: Gridding with a Box Domain\n",
    "\n",
    "### Domain Description\n",
    "We will be working with a simple rectangular box domain. The initial domain is 20 cells long, 1 cell wide, and 10 cells deep (20 x 1 x 10).\n",
    "\n",
    "### Topics Covered\n",
    "1. Spatial Gridding\n",
    "2. Temporal Gridding\n",
    "3. Block Domain vs. Solid File Domain"
   ]
  },
  {
   "cell_type": "markdown",
   "metadata": {},
   "source": [
    "## Topic 1: Spatial Gridding\n",
    "\n",
    "### Activities\n",
    "You will explore how different spatial grid conditions affect the conditions of a ParFlow run. The following notebook cells set up a ParFlow run by importing a ParFlow run definition, run ParFlow for 100 timesteps, and visualize the resulting ParFlow run grid. Please see [name/link to other notebook] if you would like to see the full set of keys used to define the domain for this ParFlow run. In this section we are focusing on the ParFlow keys related to the [Computational Grid](https://parflow.readthedocs.io/en/latest/keys.html#computational-grid), [Domain Geometry](https://parflow.readthedocs.io/en/latest/keys.html#geometries), and [dz Multipliers](https://parflow.readthedocs.io/en/latest/keys.html#dzmultipliers). We will explain these keys in more detail in the cells below. Also feel free to explore the [ParFlow manual](https://parflow.readthedocs.io/en/latest/keys.html#) for detail on all ParFlow keys.\n",
    "\n",
    "We'd like for you to first run the notebook cells in this section as-is to see the default box domain visualized. Then you will experiment with changing several of the ParFlow keys to see how the resulting grid changes.\n",
    "\n",
    "Please complete the following:\n",
    "1. Run the following notebook cells in this section as-is. What characteristics do you notice about the grids presented in the plots?  \n",
    "1. Experiment with changing the number and size of the grid cells by redefining the related ParFlow keys and re-running the notebook. How does the ParFlow grid change as a result?  \n",
    "    1. Keys for the number of grid cells: `ComputationalGrid.NX`, `ComputationalGrid.NY`, `ComputationalGrid.NZ`\n",
    "    1. Keys for the size of grid cells: `ComputationalGrid.DX`, `ComputationalGrid.DY`, `ComputationalGrid.DZ`\n",
    "1. Experiment with restricting only part of the domain to be in the \"active\" region. This means that the ParFlow grid only considers this region when solving. Do this by setting `Geom.domain.Upper.X` to be half of what it was previously. Re-run the notebook cells and notice how the ParFlow grid changes as a result.\n",
    "1. Experiment with defining a variable dz. This can be done by setting the ParFlow key `Solver.Nonlinear.VariableDz` to `True`. We have defined some depth levels in the ParFlow keys `Cell._0.dzScale.Value` to `Cell._9.dzScale.Value`. Compare the visual of the grid before and after this change is made. What do you notice about the resulting grid cell spacing?"
   ]
  },
  {
   "cell_type": "markdown",
   "metadata": {},
   "source": [
    " "
   ]
  },
  {
   "cell_type": "code",
   "execution_count": 1,
   "metadata": {},
   "outputs": [],
   "source": [
    "# Import the ParFlow package\n",
    "from parflow import Run\n",
    "import os\n",
    "import shutil\n",
    "from parflow.tools.fs import mkdir, cp, chdir, get_absolute_path, rm, exists\n",
    "\n",
    "# Import run information from pfidb\n",
    "domain_example = Run.from_definition(\"output/domain_example.pfidb\")"
   ]
  },
  {
   "cell_type": "code",
   "execution_count": null,
   "metadata": {},
   "outputs": [],
   "source": [
    "#-----------------------------------------------------------------------------\n",
    "# Computational Grid\n",
    "#-----------------------------------------------------------------------------\n",
    "\n",
    "# Coordinates (length units)\n",
    "# Locate the origin in the domain.\n",
    "domain_example.ComputationalGrid.Lower.X = 0.0\n",
    "domain_example.ComputationalGrid.Lower.Y = 0.0\n",
    "domain_example.ComputationalGrid.Lower.Z = 0.0\n",
    "\n",
    "# Cell size (length units)\n",
    "domain_example.ComputationalGrid.DX      = 100.0\n",
    "domain_example.ComputationalGrid.DY      = 2.0\n",
    "domain_example.ComputationalGrid.DZ      = 1.0\n",
    "\n",
    "# Grid dimensions (integer)\n",
    "domain_example.ComputationalGrid.NX      = 20\n",
    "domain_example.ComputationalGrid.NY      = 1\n",
    "domain_example.ComputationalGrid.NZ      = 10\n",
    "\n",
    "#-----------------------------------------------------------------------------\n",
    "# Domain Geometry Input\n",
    "#-----------------------------------------------------------------------------\n",
    "domain_example.GeomInput.domain_input.InputType = 'Box'\n",
    "domain_example.GeomInput.domain_input.GeomName  = 'domain'\n",
    "\n",
    "#-----------------------------------------------------------------------------\n",
    "# Domain Geometry\n",
    "#-----------------------------------------------------------------------------\n",
    "domain_example.Geom.domain.Lower.X = 0.0\n",
    "domain_example.Geom.domain.Lower.Y = 0.0\n",
    "domain_example.Geom.domain.Lower.Z = 0.0\n",
    "\n",
    "domain_example.Geom.domain.Upper.X = 2000.0\n",
    "domain_example.Geom.domain.Upper.Y = 2.0\n",
    "domain_example.Geom.domain.Upper.Z = 10.0\n",
    "\n",
    "domain_example.Geom.domain.Patches = 'x_lower x_upper y_lower y_upper z_lower z_upper'\n",
    "\n",
    "#--------------------------------------------\n",
    "# Variable dz Assignments\n",
    "#------------------------------------------\n",
    "domain_example.Solver.Nonlinear.VariableDz = False\n",
    "domain_example.dzScale.GeomNames           = 'domain'\n",
    "domain_example.dzScale.Type                = 'nzList'\n",
    "domain_example.dzScale.nzListNumber        = 10\n",
    "\n",
    "# cells start at the bottom (0) and moves up to the top\n",
    "# domain is 49m thick, root zone is down to 4 cells \n",
    "# so the root zone is 2m thick\n",
    "domain_example.Cell._0.dzScale.Value  = 10.0   # 10*1.0 = 10m  layer\n",
    "domain_example.Cell._1.dzScale.Value  = 10.0   \n",
    "domain_example.Cell._2.dzScale.Value  = 10.0   \n",
    "domain_example.Cell._3.dzScale.Value  = 10.0\n",
    "domain_example.Cell._4.dzScale.Value  = 5.0\n",
    "domain_example.Cell._5.dzScale.Value  = 1.0\n",
    "domain_example.Cell._6.dzScale.Value  = 1.0\n",
    "domain_example.Cell._7.dzScale.Value  = 0.6   # 0.6*1.0 = 0.6  60cm 3rd layer\n",
    "domain_example.Cell._8.dzScale.Value  = 0.3   # 0.3*1.0 = 0.3  30cm 2nd layer\n",
    "domain_example.Cell._9.dzScale.Value  = 0.1   # 0.1*1.0 = 0.1  10cm top layer\n",
    "\n",
    "#-----------------------------------------------------------------------------\n",
    "# Run ParFlow\n",
    "#-----------------------------------------------------------------------------\n",
    "base = os.path.join(os.getcwd(), \"output\")\n",
    "mkdir(base)\n",
    "print(f\"base: {base}\")\n",
    "domain_example.run(working_directory=base)"
   ]
  },
  {
   "cell_type": "markdown",
   "metadata": {},
   "source": [
    "Now let's take a look at the ParFlow grid. We will visualize how saturation and pressure vary within the defined grid. No need to change any of the code below, just run these cells after the ParFlow run in the previous cell completes and take a look at the output plots."
   ]
  },
  {
   "cell_type": "code",
   "execution_count": 15,
   "metadata": {},
   "outputs": [],
   "source": [
    "import parflow as pf\n",
    "import numpy as np  # we will use numpy to work with the data\n",
    "import matplotlib.pyplot as plt  # we will use matplotlib to plot the data\n",
    "from parflow.tools.fs import get_absolute_path\n",
    "from parflow.tools.io import write_pfb, read_pfb\n",
    "from parflow import Run\n",
    "import parflow.tools.hydrology as hydro\n",
    "\n",
    "def plot_domain(run_directory, variable, timestep=0):\n",
    "    \"\"\"Function to plot output from a ParFlow run\"\"\"\n",
    "\n",
    "    # Load the run from the file, this is the same as the run defined above\n",
    "    run = Run.from_definition(os.path.join(run_directory, \"domain_example.pfidb\"))   \n",
    "\n",
    "    data = run.data_accessor # get the data accessor, this makes it easier to access the data from the run\n",
    "    nt = len(data.times)  # get the number of time steps\n",
    "    nx = data.shape[2]    # get the number of cells in the x direction\n",
    "    ny = data.shape[1]    # get the number of cells in the y direction\n",
    "    nz = data.shape[0]    # get the number of cells in the z direction\n",
    "    dx = data.dx          # get the cell size in the x direction\n",
    "    dy = data.dy          # get the cell size in the y direction\n",
    "    dz = data.dz          # get the cell size in the z direction, this is a 1D array of size nz\n",
    "\n",
    "    # Print a summary of the run data\n",
    "    print(f\"nx = {nx}, ny = {ny}, nz = {nz}, nt = {nt}\")\n",
    "    print(f\"dx = {dx}, dy = {dy}, dz = {dz}\")\n",
    "\n",
    "    # Load the data\n",
    "    data = read_pfb(get_absolute_path(f\"domain_example.out.{variable}.{str(timestep).zfill(5)}.pfb\")).reshape(nrows, ncols)\n",
    "    \n",
    "    # Set negative saturation values to NaN\n",
    "    if variable == \"satur\":\n",
    "        data[data < 0.0] = np.nan\n",
    "    \n",
    "    # Set up x and z to match the shape of the ParFlow grid\n",
    "    x = np.arange(0.0,(nx+1)*dx,dx)\n",
    "    z = np.zeros(nz+1)\n",
    "    z[1:] = np.cumsum(dz)\n",
    "\n",
    "    # Get limits for plotting\n",
    "    vmin = np.nanmin(data)\n",
    "    vmax = np.nanmax(data)\n",
    "    print(f\"vmin: {vmin}, vmax: {vmax}\")\n",
    "    \n",
    "    # Define labels for plots\n",
    "    if variable == \"satur\":\n",
    "        label = \"Saturation [-]\"\n",
    "        title = \"Saturation\"\n",
    "    elif variable == \"press\":\n",
    "        label = \"Pressure Head [m]\"\n",
    "        title = \"Pressure Head\"\n",
    "\n",
    "    # Use pcolormesh to plot the data with the x and z coordinates with lines \n",
    "    # for the grid mesh from the ParFlow run grid\n",
    "    fig, ax = plt.subplots()\n",
    "    im = ax.pcolormesh(x, z, data, vmin=vmin, vmax=vmax, cmap='plasma_r')\n",
    "    plt.colorbar(im, ax=ax, label=label)\n",
    "    \n",
    "    # Include mesh lines\n",
    "    ax.hlines(z,x[0],x[-1],colors='white',linewidth=0.5)\n",
    "    ax.vlines(x,z[0],z[-1],colors='white',linewidth=0.5)\n",
    "    \n",
    "    ax.set_xlabel('x [m]')\n",
    "    ax.set_ylabel('z [m]')\n",
    "    ax.set_title(f\"{title} at t={timestep}\")\n",
    "    plt.show()"
   ]
  },
  {
   "cell_type": "code",
   "execution_count": 16,
   "metadata": {},
   "outputs": [
    {
     "name": "stdout",
     "output_type": "stream",
     "text": [
      "nx = 20, ny = 1, nz = 10, nt = 101\n",
      "dx = 100.0, dy = 2.0, dz = [1. 1. 1. 1. 1. 1. 1. 1. 1. 1.]\n",
      "vmin: 0.28374782761443423, vmax: 0.9155417527999328\n"
     ]
    },
    {
     "data": {
      "image/png": "[encoded data removed]",
      "text/plain": [
       "<Figure size 640x480 with 2 Axes>"
      ]
     },
     "metadata": {},
     "output_type": "display_data"
    },
    {
     "name": "stdout",
     "output_type": "stream",
     "text": [
      "nx = 20, ny = 1, nz = 10, nt = 101\n",
      "dx = 100.0, dy = 2.0, dz = [1. 1. 1. 1. 1. 1. 1. 1. 1. 1.]\n",
      "vmin: -9.5, vmax: -0.5\n"
     ]
    },
    {
     "data": {
      "image/png": "[encoded data removed]",
      "text/plain": [
       "<Figure size 640x480 with 2 Axes>"
      ]
     },
     "metadata": {},
     "output_type": "display_data"
    }
   ],
   "source": [
    "# Call plotting function for saturation and pressure\n",
    "plot_domain(base, \"satur\", timestep=0)\n",
    "plot_domain(base, \"press\", timestep=0)"
   ]
  },
  {
   "cell_type": "markdown",
   "metadata": {},
   "source": [
    "## Topic 2: Temporal Gridding\n",
    "\n",
    "### Activities\n",
    "You will explore how different temporal grid conditions affect the conditions of a ParFlow run. The following notebook cells set up a ParFlow run by importing a ParFlow run definition, run ParFlow for 100 timesteps, and visualize the resulting ParFlow run grid. Please see [name/link to other notebook] if you would like to see the full set of keys used to define the domain for this ParFlow run. In this section we are focusing on the ParFlow keys related to [Timing](https://parflow.readthedocs.io/en/latest/keys.html#timing-information). We will explain these keys in more detail in the cells below. Also feel free to explore the [ParFlow manual](https://parflow.readthedocs.io/en/latest/keys.html#) for detail on all ParFlow keys.\n",
    "\n",
    "We'd like for you to first run the notebook cells in this section as-is to see the default box domain visualized. Then you will experiment with changing several of the ParFlow keys to see how the resulting grid changes.\n",
    "\n",
    "Please complete the following:\n",
    "1. Run the following notebook cells in this section as-is. What characteristics do you notice about the grids presented in the plots?  \n",
    "1. Experiment with changing the start and stop times for the run using the keys `TimingInfo.StartTime` and `TimingInfo.StopTime`. Review the time series plot and compare how the outputs change as these key values change."
   ]
  },
  {
   "cell_type": "code",
   "execution_count": null,
   "metadata": {},
   "outputs": [],
   "source": [
    "#-----------------------------------------------------------------------------\n",
    "# Setup Timing\n",
    "#-----------------------------------------------------------------------------\n",
    "\n",
    "# Sets time units for time cycles (T)\n",
    "domain_example.TimingInfo.BaseUnit     = 1.0\n",
    "\n",
    "# Initial output file number\n",
    "domain_example.TimingInfo.StartCount   = 0\n",
    "\n",
    "# Start and finish time for simulation (T)\n",
    "domain_example.TimingInfo.StartTime    = 0.0\n",
    "domain_example.TimingInfo.StopTime     = 100.0\n",
    "\n",
    "# Interval to write output (T) -1 outputs at every timestep\n",
    "domain_example.TimingInfo.DumpInterval = 1.0\n",
    "\n",
    "# Timestep type\n",
    "domain_example.TimeStep.Type           = 'Constant'\n",
    "\n",
    "# Delta T (T)\n",
    "domain_example.TimeStep.Value          = 1.0\n",
    "\n",
    "#-----------------------------------------------------------------------------\n",
    "# Run ParFlow\n",
    "#-----------------------------------------------------------------------------\n",
    "base = os.path.join(os.getcwd(), \"output\")\n",
    "mkdir(base)\n",
    "print(f\"base: {base}\")\n",
    "domain_example.run(working_directory=base)"
   ]
  },
  {
   "cell_type": "markdown",
   "metadata": {},
   "source": [
    "Talk about what they should see in these plots..."
   ]
  },
  {
   "cell_type": "code",
   "execution_count": null,
   "metadata": {},
   "outputs": [],
   "source": [
    "# Call plotting function at multiple timesteps\n",
    "timesteps = [0, 5, 10]\n",
    "\n",
    "for t in timesteps:\n",
    "    plot_domain(base, \"satur\", timestep=t)"
   ]
  },
  {
   "cell_type": "markdown",
   "metadata": {},
   "source": [
    "## Topic 3: Working from a Solid File\n",
    "\n",
    "### Activities\n",
    "\n",
    "Please complete the following:\n",
    "1. "
   ]
  },
  {
   "cell_type": "code",
   "execution_count": null,
   "metadata": {},
   "outputs": [],
   "source": [
    "# Declare the geometries that you will use for the problem\n",
    "model.GeomInput.Names = \"solid_input\"\n",
    "\n",
    "# Define the solid_input geometry.  \n",
    "# Note the naming convention here GeomInput.{GeomName}.key\n",
    "model.GeomInput.solid_input.InputType = \"SolidFile\"\n",
    "model.GeomInput.solid_input.GeomNames = \"domain\"\n",
    "model.GeomInput.solid_input.FileName = \"LW.pfsol\""
   ]
  }
 ],
 "metadata": {
  "kernelspec": {
   "display_name": "Python 3 (ipykernel)",
   "language": "python",
   "name": "python3"
  },
  "language_info": {
   "codemirror_mode": {
    "name": "ipython",
    "version": 3
   },
   "file_extension": ".py",
   "mimetype": "text/x-python",
   "name": "python",
   "nbconvert_exporter": "python",
   "pygments_lexer": "ipython3",
   "version": "3.11.4"
  }
 },
 "nbformat": 4,
 "nbformat_minor": 4
}

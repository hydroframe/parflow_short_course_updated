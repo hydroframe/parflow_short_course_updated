{
 "cells": [
  {
   "cell_type": "markdown",
   "metadata": {},
   "source": [
    "# ParFlow Short Course: Initial Conditions, Boundary Conditions, and Subsurface Properties\n",
    "## Exercise: Subsurface Properties\n",
    "\n",
    "### Domain Description\n",
    "We will be working with a simple 2D box cross section domain with the following characteristics:\n",
    " - A simple cross section box domain\n",
    " - The domain is consists of a single row of 20 cells (each of which are 100 m long and 2 m wide) with 10 vertical layers of varying thickness that extend to a thickness of 48m\n",
    " - The domain slopes from right to left with a constant slope of 0.1\n",
    " - The subsurface is homogeneous\n",
    " - Simulations run for 100 hours with a time step of 1 hour.\n",
    " - There are no-flow boundary conditions on all sides except the upper x boundary (i.e. the right boundary) which has a Direchlet (constant head) boundary condition set to 1m below the surface and the top surface which has an overland flow boundary condition \n",
    " - A constant recharge flux of 0.01m/h is applied across the top of the domain \n",
    " - The initial head for the entire domain is set to 10m below the land surface"
   ]
  },
  {
   "cell_type": "markdown",
   "metadata": {},
   "source": [
    "## Topic : Subsurface Properties\n",
    "\n",
    "We will explore different ways of defining variable subsurface properties. The following notebook cells set up a ParFlow run by importing a ParFlow run definition, run ParFlow for 100 timesteps, and visualize the resulting ParFlow run grid. Please see [box_domain_setup_full.ipynb](https://github.com/hydroframe/parflow_short_course_updated/blob/main/initial_conditions/box_domain_setup_full.ipynb) if you would like to see the full set of keys used to define the domain for this ParFlow run. In this section we are focusing on the ParFlow keys related to [Geometries](https://parflow.readthedocs.io/en/latest/keys.html#geometries). We will explain these keys in more detail in the cells below. Also feel free to explore the [ParFlow manual](https://parflow.readthedocs.io/en/latest/keys.html#) for detail on all ParFlow keys.\n",
    "\n",
    "We want to create a low permeability unit in the center of the domain that extends across all layers in the center three columns of the domain. We will create this using two different methods: first using a box geometry and then using an indicator file. "
   ]
  },
  {
   "cell_type": "code",
   "execution_count": null,
   "metadata": {},
   "outputs": [],
   "source": [
    "# Import the ParFlow package\n",
    "from parflow import Run\n",
    "import os\n",
    "import sys\n",
    "import numpy as np\n",
    "from parflow.tools.fs import mkdir, cp, chdir, get_absolute_path, rm, exists\n",
    "from parflow.tools.io import write_pfb\n",
    "\n",
    "# Import functions for plotting\n",
    "sys.path.append(os.path.abspath(os.path.join(os.getcwd(), \"../plots\")))\n",
    "from plots import plot_domain, plot_subsurface_storage, plot_water_balance"
   ]
  },
  {
   "cell_type": "markdown",
   "metadata": {},
   "source": [
    "Method 1: Create a low permeability unit in the center of the domain using a box geometry."
   ]
  },
  {
   "cell_type": "code",
   "execution_count": null,
   "metadata": {},
   "outputs": [],
   "source": [
    "# Import run information from pfidb\n",
    "domain_example = Run.from_definition(\"domain_example.pfidb\")\n",
    "\n",
    "#-----------------------------------------------------------------------------\n",
    "# The Names of the GeomInputs\n",
    "#-----------------------------------------------------------------------------\n",
    "domain_example.GeomInput.Names = 'domain_input box2_input'\n",
    "\n",
    "#-----------------------------------------------------------------------------\n",
    "# Domain Geometry Input\n",
    "#-----------------------------------------------------------------------------\n",
    "domain_example.GeomInput.domain_input.InputType = 'Box'\n",
    "domain_example.GeomInput.domain_input.GeomName  = 'domain'\n",
    "\n",
    "#-----------------------------------------------------------------------------\n",
    "# Domain Geometry\n",
    "#-----------------------------------------------------------------------------\n",
    "domain_example.Geom.domain.Lower.X = 0.0\n",
    "domain_example.Geom.domain.Lower.Y = 0.0\n",
    "domain_example.Geom.domain.Lower.Z = 0.0\n",
    "\n",
    "domain_example.Geom.domain.Upper.X = 2000.0\n",
    "domain_example.Geom.domain.Upper.Y = 2.0\n",
    "domain_example.Geom.domain.Upper.Z = 10.0\n",
    "\n",
    "domain_example.Geom.domain.Patches = 'x_lower x_upper y_lower y_upper z_lower z_upper'\n",
    "\n",
    "#-----------------------------------------------------------------------------\n",
    "# K2 Geometry Input\n",
    "#-----------------------------------------------------------------------------\n",
    "domain_example.GeomInput.box2_input.InputType = 'Box'\n",
    "domain_example.GeomInput.box2_input.GeomName  = 'box2'\n",
    "\n",
    "#-----------------------------------------------------------------------------\n",
    "# K2 Geometry\n",
    "#-----------------------------------------------------------------------------\n",
    "domain_example.Geom.box2.Lower.X = 500.0\n",
    "domain_example.Geom.box2.Lower.Y = 0.0\n",
    "domain_example.Geom.box2.Lower.Z = 4.0\n",
    "\n",
    "domain_example.Geom.box2.Upper.X = 1000.0\n",
    "domain_example.Geom.box2.Upper.Y = 2.0\n",
    "domain_example.Geom.box2.Upper.Z = 6.0\n",
    "\n",
    "#-----------------------------------------------------------------------------\n",
    "# Porosity\n",
    "#-----------------------------------------------------------------------------\n",
    "domain_example.Geom.Porosity.GeomNames      = 'domain box2'\n",
    "\n",
    "domain_example.Geom.domain.Porosity.Type  = 'Constant'\n",
    "domain_example.Geom.domain.Porosity.Value = 0.25\n",
    "\n",
    "domain_example.Geom.box2.Porosity.Type  = 'Constant'\n",
    "domain_example.Geom.box2.Porosity.Value = 0.05\n",
    "\n",
    "#---------------------------------------------------------\n",
    "# Mannings coefficient\n",
    "#---------------------------------------------------------\n",
    "domain_example.Geom.Mannings.GeomNames     = 'domain box2'\n",
    "\n",
    "domain_example.Geom.domain.Mannings.Type               = 'Constant'\n",
    "domain_example.Geom.domain.Mannings.GeomNames          = 'domain'\n",
    "domain_example.Geom.domain.Mannings.Geom.domain.Value  = 2.e-6\n",
    "\n",
    "domain_example.box2.Mannings.Type               = 'Constant'\n",
    "domain_example.box2.Mannings.GeomNames          = 'domain'\n",
    "domain_example.box2.Mannings.Geom.domain.Value  = 2.e-2\n",
    "\n",
    "#-----------------------------------------------------------------------------\n",
    "# Run ParFlow\n",
    "#-----------------------------------------------------------------------------\n",
    "base = os.path.join(os.getcwd(), \"output\")\n",
    "mkdir(base)\n",
    "print(f\"base: {base}\")\n",
    "domain_example.run(working_directory=base)"
   ]
  },
  {
   "cell_type": "markdown",
   "metadata": {},
   "source": [
    "Method 2: Create a low permeability unit in the center of the domain using an indicator file."
   ]
  },
  {
   "cell_type": "code",
   "execution_count": null,
   "metadata": {},
   "outputs": [],
   "source": [
    "# Write an indicator file from a Numpy array based on the defined computational grid\n",
    "indicator = np.zeros([domain_example.ComputationalGrid.NZ,domain_example.ComputationalGrid.NY,domain_example.ComputationalGrid.NX])\n",
    "print(np.shape(indicator))\n",
    "indicator[4:6, 0, 4:9] = 1\n",
    "\n",
    "write_pfb('indicator_file.pfb', indicator,dist=True)"
   ]
  },
  {
   "cell_type": "code",
   "execution_count": null,
   "metadata": {},
   "outputs": [],
   "source": [
    "# Import run information from pfidb\n",
    "domain_example = Run.from_definition(\"domain_example.pfidb\")\n",
    "\n",
    "#-----------------------------------------------------------------------------\n",
    "# The Names of the GeomInputs\n",
    "#-----------------------------------------------------------------------------\n",
    "domain_example.GeomInput.Names = 'domain_input indi_input'\n",
    "\n",
    "#-----------------------------------------------------------------------------\n",
    "# Domain Geometry Input\n",
    "#-----------------------------------------------------------------------------\n",
    "domain_example.GeomInput.domain_input.InputType = 'Box'\n",
    "domain_example.GeomInput.domain_input.GeomName  = 'domain'\n",
    "\n",
    "#-----------------------------------------------------------------------------\n",
    "# Indicator Geometry Input\n",
    "#-----------------------------------------------------------------------------\n",
    "domain_example.GeomInput.indi_input.InputType =   \"IndicatorField\"\n",
    "domain_example.GeomInput.indi_input.GeomNames = \"K1 K2\"\n",
    "domain_example.Geom.indi_input.FileName = \"indicator_file.pfb\"  # Created above\n",
    "\n",
    "domain_example.GeomInput.K1.Value =    0\n",
    "domain_example.GeomInput.K2.Value =    1\n",
    "\n",
    "#-----------------------------------------------------------------------------\n",
    "# Domain Geometry\n",
    "#-----------------------------------------------------------------------------\n",
    "domain_example.Geom.domain.Lower.X = 0.0\n",
    "domain_example.Geom.domain.Lower.Y = 0.0\n",
    "domain_example.Geom.domain.Lower.Z = 0.0\n",
    "\n",
    "domain_example.Geom.domain.Upper.X = 2000.0\n",
    "domain_example.Geom.domain.Upper.Y = 2.0\n",
    "domain_example.Geom.domain.Upper.Z = 10.0\n",
    "\n",
    "domain_example.Geom.domain.Patches = 'x_lower x_upper y_lower y_upper z_lower z_upper'\n",
    "\n",
    "#-----------------------------------------------------------------------------\n",
    "# Run ParFlow\n",
    "#-----------------------------------------------------------------------------\n",
    "base = os.path.join(os.getcwd(), \"output\")\n",
    "mkdir(base)\n",
    "print(f\"base: {base}\")\n",
    "domain_example.run(working_directory=base)"
   ]
  },
  {
   "cell_type": "code",
   "execution_count": null,
   "metadata": {},
   "outputs": [],
   "source": [
    "# Call plotting function for saturation and pressure\n",
    "plot_domain(base, \"satur\", timestep=0)\n",
    "plot_domain(base, \"press\", timestep=0)"
   ]
  },
  {
   "cell_type": "code",
   "execution_count": null,
   "metadata": {},
   "outputs": [],
   "source": [
    "# Plot subsurface storage over time and water balance\n",
    "plot_subsurface_storage(base)\n",
    "plot_water_balance(base, run_name=\"domain_example\")"
   ]
  },
  {
   "cell_type": "code",
   "execution_count": null,
   "metadata": {},
   "outputs": [],
   "source": [
    "# Plot a map of the K field, porosity field, and indicator file"
   ]
  },
  {
   "cell_type": "markdown",
   "metadata": {},
   "source": [
    "### Module Activities\n",
    "After running the above code and reviewing the plots, please complete the following:\n",
    "1. Using the box geometry method, change the low K unit in the domain to be a horizontal unit extending across all of layer 3 of the model. How does this affect your water balance?\n",
    "1. Repeat the above exercise using the indicator file method.\n",
    "1. Move the low K layer deeper in your domain. What happens? (hint: this is done by shifting the z location of the low permeability unit)"
   ]
  }
 ],
 "metadata": {
  "kernelspec": {
   "display_name": "Python 3 (ipykernel)",
   "language": "python",
   "name": "python3"
  },
  "language_info": {
   "codemirror_mode": {
    "name": "ipython",
    "version": 3
   },
   "file_extension": ".py",
   "mimetype": "text/x-python",
   "name": "python",
   "nbconvert_exporter": "python",
   "pygments_lexer": "ipython3",
   "version": "3.11.7"
  }
 },
 "nbformat": 4,
 "nbformat_minor": 4
}

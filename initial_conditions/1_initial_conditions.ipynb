{
 "cells": [
  {
   "cell_type": "markdown",
   "metadata": {},
   "source": [
    "# ParFlow Short Course: Initial Conditions, Boundary Conditions, and Subsurface Properties\n",
    "## Exercise: Initial Conditions and Boundary Conditions\n",
    "\n",
    "### Domain Description\n",
    "We will be working with a simple 2D box cross section domain with the following characteristics:\n",
    " - A simple cross section box domain\n",
    " - The domain is consists of a single row of 20 cells (each of which are 100 m long and 2 m wide) with 10 vertical layers of varying thickness that extend to a thickness of 48m\n",
    " - The domain slopes from right to left with a constant slope of 0.1\n",
    " - The subsurface is homogeneous\n",
    " - Simulations run for 100 hours with a time step of 1 hour.\n",
    " - There are no-flow boundary conditions on all sides except the upper x boundary (i.e. the right boundary) which has a Direchlet (constant head) boundary condition set to 1m below the surface and the top surface which has an overland flow boundary condition \n",
    " - A constant recharge flux of 0.01m/h is applied across the top of the domain \n",
    " - The initial head for the entire domain is set to 10m below the land surface\n",
    "\n",
    "### Topics Covered\n",
    "1. Land Surface Boundary Conditions\n",
    "2. Subsurface Boundary Conditions\n",
    "3. Initial Conditions"
   ]
  },
  {
   "cell_type": "markdown",
   "metadata": {},
   "source": [
    "## Topic 1: Land Surface Boundary Conditions\n",
    "\n",
    "We will first explore how different land surface boundary conditions affect the results of a ParFlow run. The following notebook cells set up a ParFlow run by importing a ParFlow run definition, run ParFlow for 100 timesteps, and visualize the resulting ParFlow run grid. Please see [box_domain_setup_full.ipynb](https://github.com/hydroframe/parflow_short_course_updated/blob/main/initial_conditions/box_domain_setup_full.ipynb) if you would like to see the full set of keys used to define the domain for this ParFlow run. In this section we are focusing on the ParFlow keys related to [Boundary Conditions: Pressure](https://parflow.readthedocs.io/en/latest/keys.html#boundary-conditions-pressure) and [Boundary Conditions: Saturation](https://parflow.readthedocs.io/en/latest/keys.html#boundary-conditions-saturation). We will explain these keys in more detail in the cells below. Also feel free to explore the [ParFlow manual](https://parflow.readthedocs.io/en/latest/keys.html#) for detail on all ParFlow keys.\n",
    "\n",
    "Here you will start with the water table at a constant depth below the surface. We'd like for you to first run the notebook cells in this section as-is to see the default domain visualized. Then we will provide instructions on how to experiment with changing several of the ParFlow keys to see how the results change.\n",
    "\n",
    "We will show how to accomplish each of the following:\n",
    "1. Update the key `domain_example.Patch.z_upper.BCPressure.alltime.Value` to -0.02 to double the surface recharge flux. Re-run the plots and compare how the output changes.\n",
    "1. Update the key `domain_example.Patch.z_upper.BCPressure.alltime.Value` to 0.00 to apply a constant pressure of zero across the top (like a lake). Re-run the plots and compare how the output changes."
   ]
  },
  {
   "cell_type": "code",
   "execution_count": null,
   "metadata": {},
   "outputs": [],
   "source": [
    "# Import the ParFlow package\n",
    "from parflow import Run\n",
    "import os\n",
    "import sys\n",
    "from parflow.tools.fs import mkdir, cp, chdir, get_absolute_path, rm, exists\n",
    "\n",
    "# Import functions for plotting\n",
    "sys.path.append(os.path.abspath(os.path.join(os.getcwd(), \"../plots\")))\n",
    "from plots import plot_domain, plot_subsurface_storage, plot_water_balance"
   ]
  },
  {
   "cell_type": "code",
   "execution_count": null,
   "metadata": {},
   "outputs": [],
   "source": [
    "# Import run information from pfidb\n",
    "domain_example = Run.from_definition(\"domain_example.pfidb\")\n",
    "\n",
    "#-----------------------------------------------------------------------------\n",
    "# Boundary Conditions: Pressure\n",
    "#-----------------------------------------------------------------------------\n",
    "domain_example.Patch.z_upper.BCPressure.Type          = 'OverlandFlow'\n",
    "domain_example.Patch.z_upper.BCPressure.Cycle         = 'constant'\n",
    "domain_example.Patch.z_upper.BCPressure.alltime.Value = -0.01\n",
    "\n",
    "#-----------------------------------------------------------------------------\n",
    "# Run ParFlow\n",
    "#-----------------------------------------------------------------------------\n",
    "base = os.path.join(os.getcwd(), \"output\")\n",
    "mkdir(base)\n",
    "print(f\"base: {base}\")\n",
    "domain_example.run(working_directory=base)"
   ]
  },
  {
   "cell_type": "markdown",
   "metadata": {},
   "source": [
    "Now let's take a look at the ParFlow grid. We will visualize how saturation and pressure vary within the defined grid. No need to change any of the code below, just run these cells after the ParFlow run in the previous cell completes and take a look at the output plots."
   ]
  },
  {
   "cell_type": "code",
   "execution_count": null,
   "metadata": {},
   "outputs": [],
   "source": [
    "# Call plotting function for saturation and pressure\n",
    "plot_domain(base, \"satur\", timestep=0)\n",
    "plot_domain(base, \"press\", timestep=0)"
   ]
  },
  {
   "cell_type": "code",
   "execution_count": null,
   "metadata": {},
   "outputs": [],
   "source": [
    "# Plot subsurface storage over time and water balance\n",
    "plot_subsurface_storage(base)\n",
    "plot_water_balance(base)"
   ]
  },
  {
   "cell_type": "markdown",
   "metadata": {},
   "source": [
    "## Topic 2: Subsurface Boundary Conditions\n",
    "\n",
    "### Activities\n",
    "You will explore how different subsurface boundary conditions affect the conditions of a ParFlow run. The following notebook cells set up a ParFlow run by importing a ParFlow run definition, run ParFlow for 100 timesteps, and visualize the resulting ParFlow run grid. Please see [box_domain_setup_full.ipynb](https://github.com/hydroframe/parflow_short_course_updated/blob/main/initial_conditions/box_domain_setup_full.ipynb) if you would like to see the full set of keys used to define the domain for this ParFlow run. In this section we are focusing on the ParFlow keys related to [Internal Boundary Conditions](https://parflow.readthedocs.io/en/latest/keys.html#internal-boundary-conditions). We will explain these keys in more detail in the cells below. Also feel free to explore the [ParFlow manual](https://parflow.readthedocs.io/en/latest/keys.html#) for detail on all ParFlow keys.\n",
    "\n",
    "We'd like for you to first run the notebook cells in this section as-is to see the default domain visualized. Then we will provide instructions on how to experiment with changing several of the ParFlow keys to see how the results change.\n",
    " \n",
    "Please complete the following:\n",
    "1. Change the domain to be no flow on all 4 sides (hint: update all fluxes except for z_upper to be 0)\n",
    "1. Change the domain to have a constant head (Direclet) on both x-lower and x-upper (hint: x-upper currently has a Direclet head with `DirEquilRefPatch`, so only x-lower needs to be updated)\n",
    "1. Add a linear pressure gradient BC (hint: explore the use of `DirEquilPLinear` for a `BCPressure.Type` key)"
   ]
  },
  {
   "cell_type": "code",
   "execution_count": null,
   "metadata": {},
   "outputs": [],
   "source": [
    "# Import run information from pfidb\n",
    "domain_example = Run.from_definition(\"domain_example.pfidb\")\n",
    "\n",
    "#-----------------------------------------------------------------------------\n",
    "# Boundary Conditions: Pressure\n",
    "#-----------------------------------------------------------------------------\n",
    "domain_example.BCPressure.PatchNames = 'x_lower x_upper y_lower y_upper z_lower z_upper'\n",
    "\n",
    "domain_example.Patch.y_lower.BCPressure.Type          = 'FluxConst'\n",
    "domain_example.Patch.y_lower.BCPressure.Cycle         = 'constant'\n",
    "domain_example.Patch.y_lower.BCPressure.alltime.Value = 0.0\n",
    "\n",
    "domain_example.Patch.z_lower.BCPressure.Type          = 'FluxConst'\n",
    "domain_example.Patch.z_lower.BCPressure.Cycle         = 'constant'\n",
    "domain_example.Patch.z_lower.BCPressure.alltime.Value = 0.0\n",
    "\n",
    "domain_example.Patch.x_lower.BCPressure.Type          = 'FluxConst'\n",
    "domain_example.Patch.x_lower.BCPressure.Cycle         = 'constant'\n",
    "domain_example.Patch.x_lower.BCPressure.alltime.Value = 0.0\n",
    "\n",
    "domain_example.Patch.x_upper.BCPressure.Type          = 'DirEquilRefPatch'\n",
    "domain_example.Patch.x_upper.BCPressure.RefGeom       = 'domain'\n",
    "domain_example.Patch.x_upper.BCPressure.RefPatch      = 'z_upper'\n",
    "domain_example.Patch.x_upper.BCPressure.Cycle         = 'constant'\n",
    "domain_example.Patch.x_upper.BCPressure.alltime.Value = -1.0  # ocean boundary is 1m below land surface\n",
    "\n",
    "domain_example.Patch.y_upper.BCPressure.Type          = 'FluxConst'\n",
    "domain_example.Patch.y_upper.BCPressure.Cycle         = 'constant'\n",
    "domain_example.Patch.y_upper.BCPressure.alltime.Value = 0.0\n",
    "\n",
    "domain_example.Patch.z_upper.BCPressure.Type          = 'OverlandFlow'\n",
    "domain_example.Patch.z_upper.BCPressure.Cycle         = 'constant'\n",
    "domain_example.Patch.z_upper.BCPressure.alltime.Value = -0.01\n",
    "\n",
    "#-----------------------------------------------------------------------------\n",
    "# Run ParFlow\n",
    "#-----------------------------------------------------------------------------\n",
    "base = os.path.join(os.getcwd(), \"output\")\n",
    "mkdir(base)\n",
    "print(f\"base: {base}\")\n",
    "domain_example.run(working_directory=base)"
   ]
  },
  {
   "cell_type": "code",
   "execution_count": null,
   "metadata": {},
   "outputs": [],
   "source": [
    "# Call plotting function for saturation and pressure\n",
    "plot_domain(base, \"satur\", timestep=0)\n",
    "plot_domain(base, \"press\", timestep=0)"
   ]
  },
  {
   "cell_type": "code",
   "execution_count": null,
   "metadata": {},
   "outputs": [],
   "source": [
    "# Plot subsurface storage over time and water balance\n",
    "plot_subsurface_storage(base)\n",
    "plot_water_balance(base)"
   ]
  },
  {
   "cell_type": "markdown",
   "metadata": {},
   "source": [
    "## Topic 3: Initial Conditions\n",
    "\n",
    "### Activities\n",
    "\n",
    "You will explore how using a solid file to define the domain affects the conditions of a ParFlow run. The following notebook cells set up a ParFlow run by importing a ParFlow run definition, run ParFlow for 100 timesteps, and visualize the resulting ParFlow run grid. Please see [box_domain_setup_full.ipynb](https://github.com/hydroframe/parflow_short_course_updated/blob/main/initial_conditions/box_domain_setup_full.ipynb) if you would like to see the full set of keys used to define the domain for this ParFlow run. In this section we are focusing on the ParFlow keys related to [Initial Conditions: Phase Saturations](https://parflow.readthedocs.io/en/latest/keys.html#initial-conditions-phase-saturations), [Initial Conditions: Pressure](https://parflow.readthedocs.io/en/latest/keys.html#initial-conditions-pressure), and [Initial Conditions: Phase Concentrations](https://parflow.readthedocs.io/en/latest/keys.html#initial-conditions-phase-concentrations). We will explain these keys in more detail in the cells below. Also feel free to explore the [ParFlow manual](https://parflow.readthedocs.io/en/latest/keys.html#) for detail on all ParFlow keys.\n",
    "\n",
    "We'd like for you to first run the notebook cells in this section as-is to see the default domain visualized. Then we will provide instructions on how to experiment with changing several of the ParFlow keys to see how the results change.\n",
    "\n",
    "Please complete the following:\n",
    "1. Change the initial conditions constant values (`Geom.domain.ICPressure.Value`) from -10 to -1.\n",
    "2. Read in the initial conditions from the last pressure file from one of the cases with the two constant head boundary conditions. Please uncomment the relevant line in the below code cell to set initial conditions from a file."
   ]
  },
  {
   "cell_type": "code",
   "execution_count": null,
   "metadata": {},
   "outputs": [],
   "source": [
    "# Import the ParFlow package\n",
    "from parflow import Run\n",
    "import os\n",
    "from parflow.tools.fs import mkdir, cp, chdir, get_absolute_path, rm, exists"
   ]
  },
  {
   "cell_type": "code",
   "execution_count": null,
   "metadata": {},
   "outputs": [],
   "source": [
    "# Import run information from pfidb\n",
    "domain_example = Run.from_definition(\"domain_example.pfidb\")\n",
    "\n",
    "#---------------------------------------------------\n",
    "# Initial conditions: water pressure\n",
    "#---------------------------------------------------\n",
    "domain_example.ICPressure.Type                 = 'HydroStaticPatch'\n",
    "domain_example.ICPressure.GeomNames            = 'domain'\n",
    "domain_example.Geom.domain.ICPressure.Value    = -10.00\n",
    "domain_example.Geom.domain.ICPressure.RefGeom  = 'domain'\n",
    "domain_example.Geom.domain.ICPressure.RefPatch = 'z_upper'\n",
    "\n",
    "# For Step 2: Uncomment these line to read in the last pressure file from your previous run\n",
    "# cp(\"output/domain_example.out.press.00100.pfb\", \"output/ic_pressure.pfb\")  # Saving a copy so the pressure file used does not get overwritten\n",
    "# domain_example.Geom.domain.ICPressure.FileName = \"ic_pressure.pfb\"  # Set path to file to use for initial conditions\n",
    "\n",
    "#-----------------------------------------------------------------------------\n",
    "# Run ParFlow\n",
    "#-----------------------------------------------------------------------------\n",
    "base = os.path.join(os.getcwd(), \"output\")\n",
    "mkdir(base)\n",
    "print(f\"base: {base}\")\n",
    "domain_example.run(working_directory=base)"
   ]
  },
  {
   "cell_type": "code",
   "execution_count": null,
   "metadata": {},
   "outputs": [],
   "source": [
    "# Call plotting function for saturation and pressure\n",
    "plot_domain(base, \"satur\", timestep=0)\n",
    "plot_domain(base, \"press\", timestep=0)"
   ]
  },
  {
   "cell_type": "code",
   "execution_count": null,
   "metadata": {},
   "outputs": [],
   "source": [
    "# Plot subsurface storage over time and water balance\n",
    "plot_subsurface_storage(base)\n",
    "plot_water_balance(base)"
   ]
  },
  {
   "cell_type": "markdown",
   "metadata": {},
   "source": [
    "## Module Activities\n",
    "After using the above topics to explore boundary conditions and initial conditions, please develop your own code cells below to address the following:\n",
    "\n",
    "1. Choose one set of boundary conditions and run it for multiple initial conditions. Do you get the same answer? \n",
    "1. For a given flux boundary condition at the top, adjust the rest of your boundary conditions to try to minimize outflow out of the domain. (What if you want to maximize)\n",
    "1. BONUS question: Are the simulations you have run so far in steady state? Adjust your run to achieve steady state for one of your configurations. "
   ]
  },
  {
   "cell_type": "code",
   "execution_count": null,
   "metadata": {},
   "outputs": [],
   "source": []
  }
 ],
 "metadata": {
  "kernelspec": {
   "display_name": "Python 3 (ipykernel)",
   "language": "python",
   "name": "python3"
  },
  "language_info": {
   "codemirror_mode": {
    "name": "ipython",
    "version": 3
   },
   "file_extension": ".py",
   "mimetype": "text/x-python",
   "name": "python",
   "nbconvert_exporter": "python",
   "pygments_lexer": "ipython3",
   "version": "3.11.4"
  }
 },
 "nbformat": 4,
 "nbformat_minor": 4
}
